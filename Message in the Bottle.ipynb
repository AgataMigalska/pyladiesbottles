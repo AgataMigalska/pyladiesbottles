{
 "cells": [
  {
   "cell_type": "markdown",
   "metadata": {},
   "source": [
    "# Installation\n",
    "## Necessary Python Modules\n",
    "\n",
    "1. Install [bottle](https://bottlepy.org)\n",
    "<pre>\n",
    "pip install bottle\n",
    "</pre>\n",
    "\n",
    "1. Install lorem\n",
    "<pre>\n",
    "pip install lorem\n",
    "</pre>\n",
    "\n",
    "\n",
    "## Additional resources\n",
    "\n",
    "1. Crate a free account on [PythonAnywhere.com](http://pythonanywhere.com)\n",
    "1. Create a new empty repository on [github.com](http://github.com) or [bitbucket.org](http://bitbucket.org)\n",
    "1. [Optional] Download the **source code** version of [bootstrap](http://getbootstrap.com/getting-started/#download)"
   ]
  },
  {
   "cell_type": "markdown",
   "metadata": {},
   "source": [
    "# Source code\n",
    "\n",
    "<pre>\n",
    "git clone https://github.com/AgataMigalska/pyladiesbottles.git\n",
    "</pre>"
   ]
  },
  {
   "cell_type": "markdown",
   "metadata": {},
   "source": [
    "# Live demo\n",
    "\n",
    "http://pyladiesbottle.pythonanywhere.com\n",
    "\n",
    "Note: Demo is on a free account which has limited CPU time, so it might happen that the website is no longer respo"
   ]
  },
  {
   "cell_type": "markdown",
   "metadata": {},
   "source": [
    "# Writing code\n",
    "\n",
    "## Index"
   ]
  },
  {
   "cell_type": "markdown",
   "metadata": {},
   "source": [
    "1. Create new package `blog`. Inside the `blog` create a new catalogue `views`. In `views` create new file `index.tpl`. Your directory structure should look like this:\n",
    "<pre>\n",
    "blog\n",
    "    |-- views\n",
    "        |-- index.tpl\n",
    "</pre>\n",
    "1. Paste the code below to `index.tpl`\n",
    "<pre>\n",
    "&lt;!DOCTYPE html&gt;\n",
    "&lt;html&gt;\n",
    "&lt;head&gt;\n",
    "&lt;meta charset=\"utf-8\"&gt;\n",
    "&lt;title&gt;Message in the Bottle&lt;/title&gt;\n",
    "&lt;/head&gt;\n",
    "&lt;body&gt;\n",
    "&lt;h1&gt;Message in the Bottle!&lt;/h1&gt;\n",
    "&lt;/body&gt;\n",
    "&lt;/html&gt;\n",
    "</pre>\n",
    "\n",
    "1. In `blog` create new module `server.py`\n",
    "\n",
    "<pre>\n",
    "import bottle\n",
    "\n",
    "@bottle.route('/')\n",
    "def index():\n",
    "    return bottle.template('index')\n",
    "    \n",
    "application = bottle.default_app()\n",
    "application.run()\n",
    "</pre>\n"
   ]
  },
  {
   "cell_type": "markdown",
   "metadata": {},
   "source": [
    "## Running the server\n",
    "\n",
    "1. Start the server\n",
    "\n",
    "1. Open a browser and go to http://localhost:8080\n",
    "\n",
    "1. Troubleshooting: If you see `Template 'index' not found.` see here: [https://bottlepy.org/docs/dev/faq.html](https://bottlepy.org/docs/dev/faq.html) "
   ]
  },
  {
   "cell_type": "markdown",
   "metadata": {},
   "source": [
    "## Adding CSS style"
   ]
  },
  {
   "cell_type": "markdown",
   "metadata": {
    "collapsed": true
   },
   "source": [
    "To build a good-looking website we will use [bootstrap](http://getbootstrap.com/getting-started/#download). If you download the source code archive you will find several examples in the `docs/examples` folder. We will be using the `blog` css."
   ]
  },
  {
   "cell_type": "markdown",
   "metadata": {},
   "source": [
    "1. In `blog` directory create `static` directory. \n",
    "1. Copy `js` and `css` folders from the cloned repository (these are taken from bootstrap + there is an additional style.css)\n",
    "1. In `index.tpl` in the head section add \n",
    "<pre>\n",
    "&lt;link rel=\"stylesheet\" type=\"text/css\" href=\"/static/css/style.css\"&gt;\n",
    "</pre>\n",
    "\n",
    "1. Run the server. Note that you will see \n",
    "<pre>\n",
    "\"GET /static/css/style.css HTTP/1.1\" 404 736\n",
    "</pre>\n",
    "\n",
    "1. In the server.py add a function that will serve static content.\n",
    "\n",
    "<pre>\n",
    "import os\n",
    "\n",
    "@bottle.route('/static/&lt;directory&gt;/&lt;filename&gt;')\n",
    "def server_static(directory, filename):\n",
    "    root = os.path.join(os.getcwd(), 'static', directory)\n",
    "    return bottle.static_file(filename, root=root)\n",
    "</pre>"
   ]
  },
  {
   "cell_type": "markdown",
   "metadata": {},
   "source": [
    "## Navigation\n",
    "\n",
    "Within `server.py` write navigation between pages\n",
    "\n",
    "<pre>\n",
    "@bottle.route('/')\n",
    "def index():\n",
    "    return bottle.template('index')\n",
    "    \n",
    "@bottle.route('/about')\n",
    "def about():\n",
    "    return bottle.template('about')\n",
    "    \n",
    "@bottle.get('/blog')\n",
    "def blog():\n",
    "    return bottle.template('blog')\n",
    "    \n",
    "@bottle.get('/post')\n",
    "def new_entry():\n",
    "    return bottle.template('post')\n",
    "    \n",
    "@bottle.post('/blog')\n",
    "def add_entry():\n",
    "    # do stuff\n",
    "    return blog()\n",
    "</pre>\n",
    "\n"
   ]
  },
  {
   "cell_type": "markdown",
   "metadata": {},
   "source": [
    "### Templates \n",
    "1. Copy the contents of template_base.tpl into base.tpl\n",
    "1. Copy the contents of template_blog.tpl into blog.tpl\n",
    "1. Create remaining tpl files: post.tpl and about.tpl. Leave them blank for now.\n",
    "\n",
    "`base.tpl` is a master page for our website. For the content that will be changing put\n",
    "<pre>\n",
    "{{!base}}\n",
    "</pre>\n",
    "\n",
    "Exclamation mark means that exact html code will be pasted. Without it, html tags are escaped by Bottle."
   ]
  },
  {
   "cell_type": "markdown",
   "metadata": {},
   "source": [
    "### Nav header\n",
    "* In base.tpl change the top navigation to:\n",
    "\n",
    "<pre>\n",
    "&lt;nav class=\"nav blog-nav\"&gt;\n",
    "    % try:\n",
    "        % if page == 'index':\n",
    "            &lt;a class=\"nav-link active\" href=\"/\"&gt;Home&lt;/a&gt;\n",
    "        % else:\n",
    "            &lt;a class=\"nav-link\" href=\"/\"&gt;Home&lt;/a&gt;\n",
    "        % end\n",
    "        % if page == 'blog':\n",
    "            &lt;a class=\"nav-link active\" href=\"/blog\"&gt;Blog&lt;/a&gt;\n",
    "        % else:\n",
    "            &lt;a class=\"nav-link\" href=\"/blog\"&gt;Blog&lt;/a&gt;\n",
    "        % end\n",
    "        % if page == 'post':\n",
    "            &lt;a class=\"nav-link active\" href=\"/post\"&gt;New post&lt;/a&gt;\n",
    "        % else:\n",
    "            &lt;a class=\"nav-link\" href=\"/post\"&gt;New post&lt;/a&gt;\n",
    "        % end\n",
    "        % if page == 'about':\n",
    "            &lt;a class=\"nav-link active\" href=\"/about\"&gt;About&lt;/a&gt;\n",
    "        % else:\n",
    "            &lt;a class=\"nav-link\" href=\"/about\"&gt;About&lt;/a&gt;\n",
    "        % end\n",
    "    % except NameError:\n",
    "        &lt;a class=\"nav-link\" href=\"/\"&gt;Home&lt;/a&gt;\n",
    "        &lt;a class=\"nav-link\" href=\"/blog\"&gt;Blog&lt;/a&gt;\n",
    "        &lt;a class=\"nav-link\" href=\"/post\"&gt;New post&lt;/a&gt;\n",
    "        &lt;a class=\"nav-link\" href=\"/about\"&gt;About&lt;/a&gt;\n",
    "    % end\n",
    "&lt;/nav&gt;\n",
    "</pre>\n",
    "\n",
    "* In `server.py` send an information about page to templates\n",
    "\n",
    "<pre>\n",
    "@bottle.route('/')\n",
    "def index():\n",
    "    return bottle.template('index', page='index')\n",
    "    \n",
    "@bottle.route('/about')\n",
    "def about():\n",
    "    return bottle.template('about', page='about')\n",
    "    \n",
    "@bottle.get('/blog')\n",
    "def blog():\n",
    "    with get_dao() as data_access_object:\n",
    "        posts = data_access_object.select()\n",
    "    return bottle.template('blog', posts=posts, page='blog')\n",
    "    \n",
    "@bottle.get('/post')\n",
    "def new_entry():\n",
    "    return bottle.template('post', page='post')\n",
    "</pre>"
   ]
  },
  {
   "cell_type": "markdown",
   "metadata": {},
   "source": [
    "## List blog entries\n",
    "\n",
    "* Copy dao.py to your project\n",
    "* Update blog() method to use the dao\n",
    "\n",
    "<pre>\n",
    "@bottle.get('/blog')\n",
    "def blog():\n",
    "    with get_dao() as data_access_object:\n",
    "        posts = data_access_object.select()\n",
    "    return bottle.template('blog', posts=posts, page='blog')\n",
    "       \n",
    "def get_dao():\n",
    "    import dao\n",
    "    return dao.MockDataAccessObject()\n",
    "</pre>\n",
    "\n",
    "* Update blog.tpl to display our posts\n",
    "<pre>\n",
    "%for idx, post in enumerate(posts):\n",
    "    &lt;div class=\"blog-post\"&gt;\n",
    "        &lt;h2 class=\"blog-post-title\"&gt;{{post['TITLE']}}&lt;/h2&gt;\n",
    "        &lt;p class=\"blog-post-meta\"&gt;{{post['POST_DATE']}} by &lt;a href=\"#\"&gt;{{post['AUTHOR']}}&lt;/a&gt;&lt;/p&gt;\n",
    "        &lt;p&gt;{{post['CONTENT']}}&lt;/p&gt;\n",
    "    &lt;/div&gt;\n",
    "%end\n",
    "</pre>"
   ]
  },
  {
   "cell_type": "markdown",
   "metadata": {},
   "source": [
    "## Add new blog entry\n",
    "In blog.tpl add a button that allows to add a new entry:\n",
    "<pre>\n",
    "&lt;div class=\"blog-pagination\"&gt;\n",
    "    &lt;a class=\"btn btn-primary\" href=\"/post\"&gt;Add new entry&lt;/a&gt;\n",
    "&lt;/div&gt;\n",
    "</pre>"
   ]
  },
  {
   "cell_type": "markdown",
   "metadata": {},
   "source": [
    "In post.tpl paste the following code:\n",
    "<pre>\n",
    "% rebase('base.tpl')\n",
    "&lt;form id=\"new_post\" action=\"blog\" method=\"post\" class=\"form-new-post\"&gt;\n",
    "    &lt;h2 class=\"form-heading\"&gt;New Message&lt;/h2&gt;\n",
    "    &lt;label for=\"title\"&gt;Title:&lt;/label&gt;\n",
    "    &lt;input type=\"text\" class=\"form-control\" name=\"title\" id=\"title\"/&gt;\n",
    "    &lt;label for=\"author\"&gt;Author:&lt;/label&gt;\n",
    "    &lt;input type=\"text\" class=\"form-control\" name=\"author\" id=\"author\"/&gt;\n",
    "    &lt;label for\"content\"&gt;Content:&lt;/label&gt;\n",
    "    &lt;textarea name=\"content\" class=\"form-control\" id=\"content\"&gt;&lt;/textarea&gt;\n",
    "    &lt;button class=\"btn btn-primary\" type=\"submit\" id=\"submit\"&gt;Save&lt;/button&gt;\n",
    "&lt;/form&gt;\n",
    "</pre>"
   ]
  },
  {
   "cell_type": "markdown",
   "metadata": {},
   "source": [
    "### Saving an entry\n",
    "Change add_entry() function to save a post\n",
    "\n",
    "<pre>\n",
    "@bottle.post('/blog')\n",
    "def add_entry():\n",
    "    data = dict()\n",
    "    data['TITLE'] = bottle.request.forms.get('title')\n",
    "    data['AUTHOR'] = bottle.request.forms.get('author')\n",
    "    data['CONTENT'] = bottle.request.forms.get('content')\n",
    "    data['POST_DATE'] = datetime.now()\n",
    "    \n",
    "    with get_dao() as data_access_object:\n",
    "        data_access_object.insert(data)\n",
    "    return blog()\n",
    "</pre>"
   ]
  },
  {
   "cell_type": "markdown",
   "metadata": {},
   "source": [
    "## Git Repository\n",
    "Push your project to git repository"
   ]
  },
  {
   "cell_type": "markdown",
   "metadata": {},
   "source": [
    "# Pythonanywhere.com\n",
    "## Source code and database\n",
    "1. Log into Pythonanywhere.com. \n",
    "1. Set up a password for MySql database (say, notrealpassword)\n",
    "1. Create a new database called *messages*\n",
    "1. Start a bash console and clone your git repository\n",
    "1. In a bash console type (changing the user, password and repositoryname)\n",
    "\n",
    "<pre>\n",
    "mysql --user=user --password=password --host=user.mysql.pythonanywhere-services.com 'user$messages' < /home/user/repositoryname/blog/db/create_db.sql\n",
    "</pre>\n",
    "\n",
    "<pre>\n",
    "mysql --user=user --password=password --host=user.mysql.pythonanywhere-services.com 'user$messages' < /home/user/repositoryname/blog/db/test_data.sql\n",
    "</pre>\n"
   ]
  },
  {
   "cell_type": "markdown",
   "metadata": {},
   "source": [
    "## Settings.ini\n",
    "\n",
    "Create a file `settings.ini` in a `db` folder. Paste in the following information (replace username and password):\n",
    "<pre>\n",
    "[mysql]\n",
    "host=username.mysql.pythonanywhere-services.com\n",
    "user=username\n",
    "password=password\n",
    "database=username$messages\n",
    "charset=utf8\n",
    "buffered=False\n",
    "</pre>"
   ]
  },
  {
   "cell_type": "markdown",
   "metadata": {},
   "source": [
    "## Virtual Environment\n",
    "1. Make virtual environment\n",
    "<pre>\n",
    "mkvirtualenv messagesenv --python=/usr/bin/python3.6\n",
    "</pre>\n",
    "1. pip install \n",
    "<pre>\n",
    "pip install lorem\n",
    "pip install bottle\n",
    "pip install mysqlclient\n",
    "pip install mysql-connector-python\n",
    "</pre>\n",
    "1. Go to the Web tab, Virtualenv section, and enter the path: \n",
    "<pre>\n",
    "/home/myusername/.virtualenvs/myvirtualenv\n",
    "# e.g. /home/pyladiesbottle/.virtualenvs/messagesenv\n",
    "</pre>\n"
   ]
  },
  {
   "cell_type": "markdown",
   "metadata": {},
   "source": [
    "## Webapp configuration\n",
    "1. On the Web tab create new Bottle application. Your project home should be\n",
    "<pre>\n",
    "project_home = u'/home/user/repositoryname/blog'\n",
    "</pre>\n",
    "1. Click on the link leading to your website and check that \"Hello from bottle is displayed\"\n",
    "1. Go to username_pythonanywhere_com_wsgi.py file and change the last line to\n",
    "<pre>\n",
    "from server import application\n",
    "</pre>\n",
    "1. Save, Close, Reload your website"
   ]
  }
 ],
 "metadata": {
  "anaconda-cloud": {},
  "kernelspec": {
   "display_name": "Python [default]",
   "language": "python",
   "name": "python3"
  },
  "language_info": {
   "codemirror_mode": {
    "name": "ipython",
    "version": 3
   },
   "file_extension": ".py",
   "mimetype": "text/x-python",
   "name": "python",
   "nbconvert_exporter": "python",
   "pygments_lexer": "ipython3",
   "version": "3.5.2"
  }
 },
 "nbformat": 4,
 "nbformat_minor": 1
}
