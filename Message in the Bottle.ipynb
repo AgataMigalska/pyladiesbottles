{
 "cells": [
  {
   "cell_type": "markdown",
   "metadata": {},
   "source": [
    "# Installation\n",
    "\n",
    "1. Install [bottle](https://bottlepy.org)\n",
    "<pre>\n",
    "pip install bottle\n",
    "</pre>\n",
    "\n",
    "1. Install [lorem](https://pypi.python.org/pypi/lorem)\n",
    "<pre>\n",
    "pip install lorem\n",
    "</pre>\n",
    "\n",
    "1. Install mysqlclient\n",
    "<pre>\n",
    "pip install mysqlclient\n",
    "</pre>"
   ]
  },
  {
   "cell_type": "markdown",
   "metadata": {},
   "source": [
    "# Git clone\n",
    "\n",
    "<pre>\n",
    "git clone \n",
    "</pre>"
   ]
  },
  {
   "cell_type": "markdown",
   "metadata": {},
   "source": [
    "# Writing code\n",
    "\n",
    "Open you favorite editor. Go to your source code directory."
   ]
  },
  {
   "cell_type": "markdown",
   "metadata": {},
   "source": [
    "1. Create new package `blog'\n",
    "1. Inside the `blog` create a new catalogue `views`\n",
    "1. In `views` create new file `index.tpl` with the following content"
   ]
  },
  {
   "cell_type": "raw",
   "metadata": {},
   "source": [
    "<!DOCTYPE html>\n",
    "<html>\n",
    "<head>\n",
    "<meta charset=\"utf-8\">\n",
    "<title>Message in the Bottle</title>\n",
    "</head>\n",
    "<body>\n",
    "<h1>Message in the Bottle!</h1>\n",
    "</body>\n",
    "</html>"
   ]
  },
  {
   "cell_type": "markdown",
   "metadata": {},
   "source": [
    "4. Create new module `server.py`"
   ]
  },
  {
   "cell_type": "markdown",
   "metadata": {},
   "source": [
    "<pre>\n",
    "import bottle\n",
    "\n",
    "@bottle.route('/')\n",
    "def index():\n",
    "    return bottle.template('index')\n",
    "    \n",
    "bottle.debug(True)\n",
    "bottle.run(host='localhost', port=8086)  # Start the webserver running and wait for requests\n",
    "</pre>"
   ]
  },
  {
   "cell_type": "markdown",
   "metadata": {},
   "source": [
    "Run the server.\n",
    "\n",
    "Open a browser and go to http://localhost:8086\n",
    "\n",
    "If you see `Template 'index' not found.` see here: [https://bottlepy.org/docs/dev/faq.html](https://bottlepy.org/docs/dev/faq.html) "
   ]
  },
  {
   "cell_type": "markdown",
   "metadata": {},
   "source": [
    "## Adding CSS style"
   ]
  },
  {
   "cell_type": "markdown",
   "metadata": {
    "collapsed": true
   },
   "source": [
    "Download [bootstrap source code](http://getbootstrap.com/getting-started/#download)"
   ]
  },
  {
   "cell_type": "markdown",
   "metadata": {},
   "source": [
    "In `blog` directory create `static` directory. \n",
    "Extract bootstrap.zip. Copy `js`, `css` and `fonts` folders to the `static` directory."
   ]
  },
  {
   "cell_type": "markdown",
   "metadata": {},
   "source": [
    "Create `style.css` file in `static/css` directory."
   ]
  },
  {
   "cell_type": "markdown",
   "metadata": {},
   "source": [
    "In `index.tpl` in the head section add \n",
    "<pre>\n",
    "&lt;link rel=\"stylesheet\" type=\"text/css\" href=\"/static/css/style.css\"&gt;\n",
    "</pre>\n",
    "\n",
    "Run the server. Note that you will see \n",
    "<pre>\n",
    "\"GET /static/css/style.css HTTP/1.1\" 404 736\n",
    "</pre>"
   ]
  },
  {
   "cell_type": "markdown",
   "metadata": {},
   "source": [
    "In the server.py add a function that will serve static content.\n",
    "<pre>\n",
    "import os\n",
    "\n",
    "@bottle.route('/static/&lt;directory&gt;/&lt;filename&gt;')\n",
    "def server_static(directory, filename):\n",
    "    root = os.path.join(os.getcwd(), 'static', directory)\n",
    "    return bottle.static_file(filename, root=root)\n",
    "</pre>"
   ]
  },
  {
   "cell_type": "markdown",
   "metadata": {
    "collapsed": true
   },
   "source": [
    "Take bootstrap. Go to examples/blog. Copy the contents of the css file and paste into style.css we have. Now fix it. \n",
    "\n",
    "You can also copy the contents of blog.html (put it on github), that is a smaller version of the example/blog/index.html"
   ]
  },
  {
   "cell_type": "markdown",
   "metadata": {},
   "source": [
    "## Navigation\n",
    "\n",
    "Within server.py write navigation between pages (draw an image on Adrian's surface pro)\n",
    "\n",
    "<pre>\n",
    "@bottle.route('/')\n",
    "def index():\n",
    "    return bottle.template('index')\n",
    "    \n",
    "@bottle.route('/about')\n",
    "def about():\n",
    "    return bottle.template('about')\n",
    "    \n",
    "@bottle.get('/blog')\n",
    "def blog():\n",
    "    return bottle.template('blog')\n",
    "    \n",
    "@bottle.get('/post')\n",
    "def new_entry():\n",
    "    return bottle.template('post')\n",
    "    \n",
    "@bottle.post('/blog')\n",
    "def add_entry():\n",
    "    # do stuff\n",
    "    return blog()\n",
    "</pre>\n",
    "\n"
   ]
  },
  {
   "cell_type": "markdown",
   "metadata": {},
   "source": [
    "Copy base.tpl and blog.tpl to your project"
   ]
  },
  {
   "cell_type": "markdown",
   "metadata": {},
   "source": [
    "Create remaining tpl files: post.tpl and about.tpl. Leave them blank for now."
   ]
  },
  {
   "cell_type": "markdown",
   "metadata": {},
   "source": [
    "In blog.tpl add a button that allows to add a new entry:\n",
    "<pre>\n",
    "&lt;div class=\"blog-pagination\"&gt;\n",
    "    &lt;a class=\"btn btn-primary\" href=\"/post\"&gt;Add new entry&lt;/a&gt;\n",
    "&lt;/div&gt;\n",
    "</pre>"
   ]
  },
  {
   "cell_type": "markdown",
   "metadata": {},
   "source": [
    "In post.tpl paste the following code:\n",
    "<pre>\n",
    "% rebase('base.tpl')\n",
    "&lt;div class=\"col-sm-8 blog-main\"&gt;\n",
    "    &lt;form id=\"new_post\" action=\"blog\" method=\"post\"&gt;\n",
    "        &lt;div class=\"blog-post\"&gt;\n",
    "        &lt;/div&gt;\n",
    "        &lt;div class=\"blog-pagination\"&gt;\n",
    "            &lt;button class=\"btn btn-primary\" type=\"submit\" id=\"submit\"&gt;Save&lt;/button&gt;\n",
    "        &lt;/div&gt;\n",
    "    &lt;/form&gt;\n",
    "&lt;/div&gt;\n",
    "</pre>"
   ]
  },
  {
   "cell_type": "markdown",
   "metadata": {},
   "source": [
    "Change blog() function to give us some posts\n",
    "<pre>\n",
    "@bottle.get('/blog')\n",
    "def blog():\n",
    "    import lorem\n",
    "    import random \n",
    "    from datetime import date\n",
    "    posts = []\n",
    "    today = date.today().toordinal()    \n",
    "    for i in range(10):\n",
    "        paragraph = lorem.text()\n",
    "        post_date = date.fromordinal(random.randint(0, today))\n",
    "        title = lorem.sentence()\n",
    "        post_dict = {'post': paragraph, 'date' : post_date, 'author': 'agata', 'title': title}\n",
    "        posts.append(post_dict)\n",
    "    posts = sorted(posts, key=lambda post : post['date'])\n",
    "    return bottle.template('blog', posts=posts)\n",
    "</pre>"
   ]
  },
  {
   "cell_type": "markdown",
   "metadata": {},
   "source": [
    "Update blog.tpl to display our random posts."
   ]
  },
  {
   "cell_type": "markdown",
   "metadata": {},
   "source": [
    "<pre>\n",
    "%for idx, post in enumerate(posts):\n",
    "    &lt;div class=\"blog-post\"&gt;\n",
    "        &lt;h2 class=\"blog-post-title\"&gt;{{post['title']}}&lt;/h2&gt;\n",
    "        &lt;p class=\"blog-post-meta\"&gt;{{post['date']}} by &lt;a href=\"#\"&gt;{{post['author']}}&lt;/a&gt;&lt;/p&gt;\n",
    "        &lt;p&gt;{{post['post']}}&lt;/p&gt;\n",
    "    &lt;/div&gt;\n",
    "%end\n",
    "</pre>"
   ]
  },
  {
   "cell_type": "markdown",
   "metadata": {
    "collapsed": true
   },
   "source": [
    "We can also create a master page for our web-pages. Create base.tpl and place all the html content that will always be there. For the content that will be changing put\n",
    "<pre>\n",
    "{{!base}}\n",
    "</pre>\n",
    "\n",
    "Copy the contents from the blog.tpl and put the above tag where necessary."
   ]
  },
  {
   "cell_type": "markdown",
   "metadata": {},
   "source": [
    "Create new file blog2.tpl. Put \n",
    "<pre>\n",
    "% rebase('base.tpl')\n",
    "</pre>\n",
    "at the top of the file. Below paste the content of blog.tpl "
   ]
  },
  {
   "cell_type": "markdown",
   "metadata": {},
   "source": [
    "In base.tpl change the top navigation to:\n",
    "<pre>\n",
    "&lt;nav class=\"nav blog-nav\"&gt;\n",
    "    % if page is None:\n",
    "        &lt;a class=\"nav-link active\" href=\"/\"&gt;Home&lt;/a&gt;\n",
    "    % else:\n",
    "        &lt;a class=\"nav-link\" href=\"/\"&gt;Home&lt;/a&gt;\n",
    "    % end\n",
    "    % if page == 'blog':\n",
    "        &lt;a class=\"nav-link active\" href=\"/blog\"&gt;Blog&lt;/a&gt;\n",
    "    % else:\n",
    "        &lt;a class=\"nav-link\" href=\"/blog\"&gt;Blog&lt;/a&gt;\n",
    "    % end\n",
    "    % if page == 'post':\n",
    "        &lt;a class=\"nav-link active\" href=\"/post\"&gt;New post&lt;/a&gt;\n",
    "    % else:\n",
    "        &lt;a class=\"nav-link\" href=\"/post\"&gt;New post&lt;/a&gt;\n",
    "    % end\n",
    "    % if page == 'about':\n",
    "        &lt;a class=\"nav-link active\" href=\"/about\"&gt;About&lt;/a&gt;\n",
    "    % else:\n",
    "        &lt;a class=\"nav-link\" href=\"/about\"&gt;About&lt;/a&gt;\n",
    "    % end\n",
    "&lt;/nav>\n",
    "</pre>"
   ]
  },
  {
   "cell_type": "markdown",
   "metadata": {},
   "source": [
    "Create"
   ]
  },
  {
   "cell_type": "markdown",
   "metadata": {},
   "source": [
    "Now we have to change the server.py to send the page data. \n",
    "<pre>    \n",
    "@bottle.route('/about')\n",
    "def about():\n",
    "    return bottle.template('about', page='about')\n",
    "    \n",
    "@bottle.get('/blog')\n",
    "def blog():\n",
    "    # previously existing code, do not change\n",
    "    return bottle.template('blog2', posts=posts, page='blog')\n",
    "    \n",
    "@bottle.get('/post')\n",
    "def new_entry():\n",
    "    return bottle.template('post', page='post')\n",
    "    \n",
    "</pre>"
   ]
  },
  {
   "cell_type": "markdown",
   "metadata": {},
   "source": [
    "# Adding a new post"
   ]
  },
  {
   "cell_type": "markdown",
   "metadata": {},
   "source": [
    "At the bottom of style.css add\n",
    "<pre>\n",
    "/*\n",
    " * New post form\n",
    " */\n",
    ".form-new-post {\n",
    "  padding: 15px;\n",
    "}\n",
    ".form-new-post .form-control{\n",
    "  margin-bottom: 10px;\n",
    "}\n",
    "</pre>\n",
    "\n",
    "and in the post.tpl paste\n",
    "<pre>\n",
    "% rebase('base.tpl')\n",
    "&lt;form id=\"new_post\" action=\"blog\" method=\"post\" class=\"form-new-post\"&gt;\n",
    "    &lt;h2 class=\"form-heading\"&gt;New Message&lt;/h2&gt;\n",
    "    &lt;label for=\"title\"&gt;Title:&lt;/label&gt;\n",
    "    &lt;input type=\"text\" class=\"form-control\" name=\"title\" id=\"title\"/&gt;\n",
    "    &lt;label for=\"author\"&gt;Author:&lt;/label&gt;\n",
    "    &lt;input type=\"text\" class=\"form-control\" name=\"author\" id=\"author\"/&gt;\n",
    "    &lt;label for\"content\"&gt;Content:&lt;/label&gt;\n",
    "    &lt;textarea name=\"content\" class=\"form-control\" id=\"content\"&gt;&lt;/textarea&gt;\n",
    "    &lt;button class=\"btn btn-primary\" type=\"submit\" id=\"submit\"&gt;Save&lt;/button&gt;\n",
    "&lt;/form&gt;\n",
    "</pre>"
   ]
  },
  {
   "cell_type": "markdown",
   "metadata": {},
   "source": [
    "Update the server to collect the data from the form\n",
    "<pre>\n",
    "@bottle.post('/blog')\n",
    "def add_entry():\n",
    "    title = bottle.request.forms.get('title')\n",
    "    author = bottle.request.forms.get('author')\n",
    "    content = bottle.request.forms.get('content')\n",
    "    post_date = date.today()\n",
    "    print('Post \"{}\"\\n by {} added on {}\\nContent: {}'.format(title, author, post_date, content))\n",
    "    return blog()\n",
    "</pre>"
   ]
  }
 ],
 "metadata": {
  "anaconda-cloud": {},
  "kernelspec": {
   "display_name": "Python [default]",
   "language": "python",
   "name": "python3"
  },
  "language_info": {
   "codemirror_mode": {
    "name": "ipython",
    "version": 3
   },
   "file_extension": ".py",
   "mimetype": "text/x-python",
   "name": "python",
   "nbconvert_exporter": "python",
   "pygments_lexer": "ipython3",
   "version": "3.5.2"
  }
 },
 "nbformat": 4,
 "nbformat_minor": 1
}
